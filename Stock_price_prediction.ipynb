{
 "cells": [
  {
   "cell_type": "markdown",
   "metadata": {},
   "source": [
    "# AKSHITH GOUD - STOCK PRICE PREDICTION"
   ]
  },
  {
   "cell_type": "code",
   "execution_count": 2,
   "metadata": {},
   "outputs": [],
   "source": [
    "import os\n",
    "import numpy as np\n",
    "import pandas as pd\n",
    "import matplotlib.pyplot as plt\n",
    "%matplotlib inline"
   ]
  },
  {
   "cell_type": "code",
   "execution_count": 4,
   "metadata": {
    "colab": {
     "base_uri": "https://localhost:8080/",
     "height": 204
    },
    "id": "7AiCnLCUwJLT",
    "outputId": "0ea53c92-083e-4875-dbbb-cd6f511d68a7",
    "scrolled": true
   },
   "outputs": [
    {
     "data": {
      "text/html": [
       "<div>\n",
       "<style scoped>\n",
       "    .dataframe tbody tr th:only-of-type {\n",
       "        vertical-align: middle;\n",
       "    }\n",
       "\n",
       "    .dataframe tbody tr th {\n",
       "        vertical-align: top;\n",
       "    }\n",
       "\n",
       "    .dataframe thead th {\n",
       "        text-align: right;\n",
       "    }\n",
       "</style>\n",
       "<table border=\"1\" class=\"dataframe\">\n",
       "  <thead>\n",
       "    <tr style=\"text-align: right;\">\n",
       "      <th></th>\n",
       "      <th>Date</th>\n",
       "      <th>Open</th>\n",
       "      <th>High</th>\n",
       "      <th>Low</th>\n",
       "      <th>Close</th>\n",
       "      <th>Volume</th>\n",
       "    </tr>\n",
       "  </thead>\n",
       "  <tbody>\n",
       "    <tr>\n",
       "      <th>0</th>\n",
       "      <td>1/3/2017</td>\n",
       "      <td>778.81</td>\n",
       "      <td>789.63</td>\n",
       "      <td>775.80</td>\n",
       "      <td>786.14</td>\n",
       "      <td>1,657,300</td>\n",
       "    </tr>\n",
       "    <tr>\n",
       "      <th>1</th>\n",
       "      <td>1/4/2017</td>\n",
       "      <td>788.36</td>\n",
       "      <td>791.34</td>\n",
       "      <td>783.16</td>\n",
       "      <td>786.90</td>\n",
       "      <td>1,073,000</td>\n",
       "    </tr>\n",
       "    <tr>\n",
       "      <th>2</th>\n",
       "      <td>1/5/2017</td>\n",
       "      <td>786.08</td>\n",
       "      <td>794.48</td>\n",
       "      <td>785.02</td>\n",
       "      <td>794.02</td>\n",
       "      <td>1,335,200</td>\n",
       "    </tr>\n",
       "    <tr>\n",
       "      <th>3</th>\n",
       "      <td>1/6/2017</td>\n",
       "      <td>795.26</td>\n",
       "      <td>807.90</td>\n",
       "      <td>792.20</td>\n",
       "      <td>806.15</td>\n",
       "      <td>1,640,200</td>\n",
       "    </tr>\n",
       "    <tr>\n",
       "      <th>4</th>\n",
       "      <td>1/9/2017</td>\n",
       "      <td>806.40</td>\n",
       "      <td>809.97</td>\n",
       "      <td>802.83</td>\n",
       "      <td>806.65</td>\n",
       "      <td>1,272,400</td>\n",
       "    </tr>\n",
       "  </tbody>\n",
       "</table>\n",
       "</div>"
      ],
      "text/plain": [
       "       Date    Open    High     Low   Close     Volume\n",
       "0  1/3/2017  778.81  789.63  775.80  786.14  1,657,300\n",
       "1  1/4/2017  788.36  791.34  783.16  786.90  1,073,000\n",
       "2  1/5/2017  786.08  794.48  785.02  794.02  1,335,200\n",
       "3  1/6/2017  795.26  807.90  792.20  806.15  1,640,200\n",
       "4  1/9/2017  806.40  809.97  802.83  806.65  1,272,400"
      ]
     },
     "execution_count": 4,
     "metadata": {},
     "output_type": "execute_result"
    }
   ],
   "source": [
    "dataset = pd.read_csv(\"/Users/akshith/Downloads/Google_Stock_Price_Test.csv.xls\")\n",
    "dataset.head()"
   ]
  },
  {
   "cell_type": "code",
   "execution_count": 5,
   "metadata": {
    "colab": {
     "base_uri": "https://localhost:8080/"
    },
    "id": "kNTH3wNxwJLW",
    "outputId": "edc9bb38-a271-41be-ec46-cd20fb4dd41a"
   },
   "outputs": [
    {
     "name": "stdout",
     "output_type": "stream",
     "text": [
      "[[778.81]\n",
      " [788.36]\n",
      " [786.08]\n",
      " [795.26]\n",
      " [806.4 ]\n",
      " [807.86]\n",
      " [805.  ]\n",
      " [807.14]\n",
      " [807.48]\n",
      " [807.08]\n",
      " [805.81]\n",
      " [805.12]\n",
      " [806.91]\n",
      " [807.25]\n",
      " [822.3 ]\n",
      " [829.62]\n",
      " [837.81]\n",
      " [834.71]\n",
      " [814.66]\n",
      " [796.86]]\n",
      "(20, 1)\n"
     ]
    }
   ],
   "source": [
    "training_set = dataset.iloc[:,1:2].values\n",
    "\n",
    "print(training_set)\n",
    "print(training_set.shape)"
   ]
  },
  {
   "cell_type": "code",
   "execution_count": 6,
   "metadata": {
    "colab": {
     "base_uri": "https://localhost:8080/"
    },
    "id": "vUABd17mwJLY",
    "outputId": "83842e77-8b9a-4646-8b9b-5d08bc37b04b"
   },
   "outputs": [
    {
     "data": {
      "text/plain": [
       "array([[0.        ],\n",
       "       [0.16186441],\n",
       "       [0.12322034],\n",
       "       [0.27881356],\n",
       "       [0.46762712],\n",
       "       [0.49237288],\n",
       "       [0.44389831],\n",
       "       [0.48016949],\n",
       "       [0.4859322 ],\n",
       "       [0.47915254],\n",
       "       [0.45762712],\n",
       "       [0.4459322 ],\n",
       "       [0.47627119],\n",
       "       [0.4820339 ],\n",
       "       [0.73711864],\n",
       "       [0.86118644],\n",
       "       [1.        ],\n",
       "       [0.94745763],\n",
       "       [0.60762712],\n",
       "       [0.3059322 ]])"
      ]
     },
     "execution_count": 6,
     "metadata": {},
     "output_type": "execute_result"
    }
   ],
   "source": [
    "from sklearn.preprocessing import MinMaxScaler\n",
    "\n",
    "scaler = MinMaxScaler(feature_range= (0,1))\n",
    "scaled_training_set = scaler.fit_transform(training_set)\n",
    "\n",
    "scaled_training_set"
   ]
  },
  {
   "cell_type": "code",
   "execution_count": 9,
   "metadata": {
    "colab": {
     "base_uri": "https://localhost:8080/"
    },
    "id": "X98_9PDowJLZ",
    "outputId": "3a0e9456-6848-4e87-afd2-aad53bd52931",
    "scrolled": true
   },
   "outputs": [
    {
     "ename": "IndexError",
     "evalue": "index 60 is out of bounds for axis 0 with size 20",
     "output_type": "error",
     "traceback": [
      "\u001b[0;31m---------------------------------------------------------------------------\u001b[0m",
      "\u001b[0;31mIndexError\u001b[0m                                Traceback (most recent call last)",
      "\u001b[0;32m/var/folders/j3/73qyhf751w70lcrfsfx593840000gn/T/ipykernel_32693/3336813326.py\u001b[0m in \u001b[0;36m<module>\u001b[0;34m\u001b[0m\n\u001b[1;32m      3\u001b[0m \u001b[0;32mfor\u001b[0m \u001b[0mi\u001b[0m \u001b[0;32min\u001b[0m \u001b[0mrange\u001b[0m\u001b[0;34m(\u001b[0m\u001b[0;36m60\u001b[0m\u001b[0;34m,\u001b[0m\u001b[0;36m1258\u001b[0m\u001b[0;34m)\u001b[0m\u001b[0;34m:\u001b[0m\u001b[0;34m\u001b[0m\u001b[0;34m\u001b[0m\u001b[0m\n\u001b[1;32m      4\u001b[0m   \u001b[0mX_train\u001b[0m\u001b[0;34m.\u001b[0m\u001b[0mappend\u001b[0m\u001b[0;34m(\u001b[0m\u001b[0mscaled_training_set\u001b[0m\u001b[0;34m[\u001b[0m\u001b[0mi\u001b[0m\u001b[0;34m-\u001b[0m\u001b[0;36m60\u001b[0m\u001b[0;34m:\u001b[0m\u001b[0mi\u001b[0m\u001b[0;34m,\u001b[0m \u001b[0;36m0\u001b[0m\u001b[0;34m]\u001b[0m\u001b[0;34m)\u001b[0m\u001b[0;34m\u001b[0m\u001b[0;34m\u001b[0m\u001b[0m\n\u001b[0;32m----> 5\u001b[0;31m   \u001b[0my_train\u001b[0m\u001b[0;34m.\u001b[0m\u001b[0mappend\u001b[0m\u001b[0;34m(\u001b[0m\u001b[0mscaled_training_set\u001b[0m\u001b[0;34m[\u001b[0m\u001b[0mi\u001b[0m\u001b[0;34m,\u001b[0m \u001b[0;36m0\u001b[0m\u001b[0;34m]\u001b[0m\u001b[0;34m)\u001b[0m\u001b[0;34m\u001b[0m\u001b[0;34m\u001b[0m\u001b[0m\n\u001b[0m\u001b[1;32m      6\u001b[0m \u001b[0mX_train\u001b[0m \u001b[0;34m=\u001b[0m \u001b[0mnp\u001b[0m\u001b[0;34m.\u001b[0m\u001b[0marray\u001b[0m\u001b[0;34m(\u001b[0m\u001b[0mX_train\u001b[0m\u001b[0;34m)\u001b[0m\u001b[0;34m\u001b[0m\u001b[0;34m\u001b[0m\u001b[0m\n\u001b[1;32m      7\u001b[0m \u001b[0my_train\u001b[0m \u001b[0;34m=\u001b[0m \u001b[0mnp\u001b[0m\u001b[0;34m.\u001b[0m\u001b[0marray\u001b[0m\u001b[0;34m(\u001b[0m\u001b[0my_train\u001b[0m\u001b[0;34m)\u001b[0m\u001b[0;34m\u001b[0m\u001b[0;34m\u001b[0m\u001b[0m\n",
      "\u001b[0;31mIndexError\u001b[0m: index 60 is out of bounds for axis 0 with size 20"
     ]
    }
   ],
   "source": [
    "X_train = []\n",
    "y_train = []\n",
    "for i in range(60,1258):\n",
    "  X_train.append(scaled_training_set[i-60:i, 0])\n",
    "  y_train.append(scaled_training_set[i, 0])\n",
    "X_train = np.array(X_train)\n",
    "y_train = np.array(y_train)  \n",
    "\n",
    "print(X_train.shape)\n",
    "print(y_train.shape)"
   ]
  },
  {
   "cell_type": "code",
   "execution_count": 10,
   "metadata": {
    "colab": {
     "base_uri": "https://localhost:8080/"
    },
    "id": "49LNWAnTwJLb",
    "outputId": "b99717c7-e4a0-4d6d-edf7-f7120940ef9f"
   },
   "outputs": [
    {
     "ename": "AttributeError",
     "evalue": "'list' object has no attribute 'shape'",
     "output_type": "error",
     "traceback": [
      "\u001b[0;31m---------------------------------------------------------------------------\u001b[0m",
      "\u001b[0;31mAttributeError\u001b[0m                            Traceback (most recent call last)",
      "\u001b[0;32m/var/folders/j3/73qyhf751w70lcrfsfx593840000gn/T/ipykernel_32693/4054031793.py\u001b[0m in \u001b[0;36m<module>\u001b[0;34m\u001b[0m\n\u001b[0;32m----> 1\u001b[0;31m \u001b[0mX_train\u001b[0m \u001b[0;34m=\u001b[0m \u001b[0mnp\u001b[0m\u001b[0;34m.\u001b[0m\u001b[0mreshape\u001b[0m\u001b[0;34m(\u001b[0m\u001b[0mX_train\u001b[0m\u001b[0;34m,\u001b[0m \u001b[0;34m(\u001b[0m\u001b[0mX_train\u001b[0m\u001b[0;34m.\u001b[0m\u001b[0mshape\u001b[0m\u001b[0;34m[\u001b[0m\u001b[0;36m0\u001b[0m\u001b[0;34m]\u001b[0m\u001b[0;34m,\u001b[0m \u001b[0mX_train\u001b[0m\u001b[0;34m.\u001b[0m\u001b[0mshape\u001b[0m\u001b[0;34m[\u001b[0m\u001b[0;36m1\u001b[0m\u001b[0;34m]\u001b[0m\u001b[0;34m,\u001b[0m \u001b[0;36m1\u001b[0m\u001b[0;34m)\u001b[0m\u001b[0;34m)\u001b[0m\u001b[0;34m\u001b[0m\u001b[0;34m\u001b[0m\u001b[0m\n\u001b[0m\u001b[1;32m      2\u001b[0m \u001b[0;34m\u001b[0m\u001b[0m\n\u001b[1;32m      3\u001b[0m \u001b[0mX_train\u001b[0m\u001b[0;34m.\u001b[0m\u001b[0mshape\u001b[0m\u001b[0;34m\u001b[0m\u001b[0;34m\u001b[0m\u001b[0m\n",
      "\u001b[0;31mAttributeError\u001b[0m: 'list' object has no attribute 'shape'"
     ]
    }
   ],
   "source": [
    "X_train = np.reshape(X_train, (X_train.shape[0], X_train.shape[1], 1))\n",
    "\n",
    "X_train.shape"
   ]
  },
  {
   "cell_type": "code",
   "execution_count": 28,
   "metadata": {
    "id": "eJ7jrxDEwJLd"
   },
   "outputs": [],
   "source": [
    "from keras.layers import LSTM,Dense,Dropout\n",
    "from keras.models import Sequential\n"
   ]
  },
  {
   "cell_type": "code",
   "execution_count": 29,
   "metadata": {
    "id": "pr_iXsN_sG07"
   },
   "outputs": [],
   "source": [
    "reg =Sequential()\n",
    "\n",
    "reg.add(LSTM(units = 50, return_sequences=True, input_shape =(X_train.shape[1], 1)))\n",
    "reg.add(Dropout(0.2))\n",
    "\n",
    "reg.add(LSTM(units = 50, return_sequences=True))\n",
    "reg.add(Dropout(0.2))\n",
    "\n",
    "reg.add(LSTM(units = 50, return_sequences=True))\n",
    "reg.add(Dropout(0.2))\n",
    "\n",
    "reg.add(LSTM(units = 50))\n",
    "reg.add(Dropout(0.2))\n",
    "\n",
    "reg.add(Dense(units=1))\n"
   ]
  },
  {
   "cell_type": "code",
   "execution_count": null,
   "metadata": {
    "colab": {
     "base_uri": "https://localhost:8080/"
    },
    "id": "qgRLj59rsn83",
    "outputId": "390a658c-c36b-423e-a262-7c1dea81f404"
   },
   "outputs": [
    {
     "name": "stdout",
     "output_type": "stream",
     "text": [
      "Epoch 1/100\n",
      "38/38 [==============================] - 6s 51ms/step - loss: 0.0453\n",
      "Epoch 2/100\n",
      "38/38 [==============================] - 2s 49ms/step - loss: 0.0065\n",
      "Epoch 3/100\n",
      "38/38 [==============================] - 2s 52ms/step - loss: 0.0056\n",
      "Epoch 4/100\n",
      "38/38 [==============================] - 2s 53ms/step - loss: 0.0050\n",
      "Epoch 5/100\n",
      "38/38 [==============================] - 2s 53ms/step - loss: 0.0053\n",
      "Epoch 6/100\n",
      "38/38 [==============================] - 2s 53ms/step - loss: 0.0048\n",
      "Epoch 7/100\n",
      "38/38 [==============================] - 2s 58ms/step - loss: 0.0048\n",
      "Epoch 8/100\n",
      "38/38 [==============================] - 3s 68ms/step - loss: 0.0050\n",
      "Epoch 9/100\n",
      "38/38 [==============================] - 3s 67ms/step - loss: 0.0048\n",
      "Epoch 10/100\n",
      "38/38 [==============================] - 3s 71ms/step - loss: 0.0052\n",
      "Epoch 11/100\n",
      "38/38 [==============================] - 3s 67ms/step - loss: 0.0046\n",
      "Epoch 12/100\n",
      "38/38 [==============================] - 2s 65ms/step - loss: 0.0043\n",
      "Epoch 13/100\n",
      "38/38 [==============================] - 2s 62ms/step - loss: 0.0040\n",
      "Epoch 14/100\n",
      "38/38 [==============================] - 2s 62ms/step - loss: 0.0041\n",
      "Epoch 15/100\n",
      "38/38 [==============================] - 2s 62ms/step - loss: 0.0040\n",
      "Epoch 16/100\n",
      "38/38 [==============================] - 2s 61ms/step - loss: 0.0043\n",
      "Epoch 17/100\n",
      "38/38 [==============================] - 3s 67ms/step - loss: 0.0045\n",
      "Epoch 18/100\n",
      "38/38 [==============================] - 2s 63ms/step - loss: 0.0045\n",
      "Epoch 19/100\n",
      "38/38 [==============================] - 2s 62ms/step - loss: 0.0039\n",
      "Epoch 20/100\n",
      "38/38 [==============================] - 2s 63ms/step - loss: 0.0037\n",
      "Epoch 21/100\n",
      "38/38 [==============================] - 2s 63ms/step - loss: 0.0040\n",
      "Epoch 22/100\n",
      "38/38 [==============================] - 2s 62ms/step - loss: 0.0034\n",
      "Epoch 23/100\n",
      "38/38 [==============================] - 2s 64ms/step - loss: 0.0039\n",
      "Epoch 24/100\n",
      "38/38 [==============================] - 3s 69ms/step - loss: 0.0030\n",
      "Epoch 25/100\n",
      "38/38 [==============================] - 2s 64ms/step - loss: 0.0032\n",
      "Epoch 26/100\n",
      "38/38 [==============================] - 2s 65ms/step - loss: 0.0034\n",
      "Epoch 27/100\n",
      "38/38 [==============================] - 2s 63ms/step - loss: 0.0030\n",
      "Epoch 28/100\n",
      "38/38 [==============================] - 2s 64ms/step - loss: 0.0031\n",
      "Epoch 29/100\n",
      "38/38 [==============================] - 3s 70ms/step - loss: 0.0030\n",
      "Epoch 30/100\n",
      "38/38 [==============================] - 3s 71ms/step - loss: 0.0033\n",
      "Epoch 31/100\n",
      "38/38 [==============================] - 2s 63ms/step - loss: 0.0030\n",
      "Epoch 32/100\n",
      "38/38 [==============================] - 3s 66ms/step - loss: 0.0029\n",
      "Epoch 33/100\n",
      "38/38 [==============================] - 3s 69ms/step - loss: 0.0029\n",
      "Epoch 34/100\n",
      "38/38 [==============================] - 2s 66ms/step - loss: 0.0027\n",
      "Epoch 35/100\n",
      "38/38 [==============================] - 3s 66ms/step - loss: 0.0034\n",
      "Epoch 36/100\n",
      "38/38 [==============================] - 3s 66ms/step - loss: 0.0029\n",
      "Epoch 37/100\n",
      "38/38 [==============================] - 3s 68ms/step - loss: 0.0026\n",
      "Epoch 38/100\n",
      "38/38 [==============================] - 2s 64ms/step - loss: 0.0024\n",
      "Epoch 39/100\n",
      "38/38 [==============================] - 2s 64ms/step - loss: 0.0031\n",
      "Epoch 40/100\n",
      "38/38 [==============================] - 2s 63ms/step - loss: 0.0029\n",
      "Epoch 41/100\n",
      "38/38 [==============================] - 2s 65ms/step - loss: 0.0028\n",
      "Epoch 42/100\n",
      "38/38 [==============================] - 2s 64ms/step - loss: 0.0025\n",
      "Epoch 43/100\n",
      "38/38 [==============================] - 3s 74ms/step - loss: 0.0026\n",
      "Epoch 44/100\n",
      "38/38 [==============================] - 2s 62ms/step - loss: 0.0028\n",
      "Epoch 45/100\n",
      "38/38 [==============================] - 2s 62ms/step - loss: 0.0026\n",
      "Epoch 46/100\n",
      "38/38 [==============================] - 2s 64ms/step - loss: 0.0024\n",
      "Epoch 47/100\n",
      "38/38 [==============================] - 2s 62ms/step - loss: 0.0024\n",
      "Epoch 48/100\n",
      "38/38 [==============================] - 2s 65ms/step - loss: 0.0025\n",
      "Epoch 49/100\n",
      "38/38 [==============================] - 3s 71ms/step - loss: 0.0025\n",
      "Epoch 50/100\n",
      "38/38 [==============================] - 3s 69ms/step - loss: 0.0026\n",
      "Epoch 51/100\n",
      "38/38 [==============================] - 3s 69ms/step - loss: 0.0023\n",
      "Epoch 52/100\n",
      "38/38 [==============================] - 3s 68ms/step - loss: 0.0023\n",
      "Epoch 53/100\n",
      "38/38 [==============================] - 3s 71ms/step - loss: 0.0022\n",
      "Epoch 54/100\n",
      "14/38 [==========>...................] - ETA: 1s - loss: 0.0021"
     ]
    }
   ],
   "source": [
    "reg.compile(optimizer = 'adam', loss= 'mean_squared_error')\n",
    "reg.fit(X_train,y_train,epochs=100, batch_size=32)"
   ]
  },
  {
   "cell_type": "code",
   "execution_count": 3,
   "metadata": {
    "id": "9j68dNA4s1r7"
   },
   "outputs": [
    {
     "ename": "NameError",
     "evalue": "name 'pd' is not defined",
     "output_type": "error",
     "traceback": [
      "\u001b[0;31m---------------------------------------------------------------------------\u001b[0m",
      "\u001b[0;31mNameError\u001b[0m                                 Traceback (most recent call last)",
      "\u001b[0;32m/var/folders/j3/73qyhf751w70lcrfsfx593840000gn/T/ipykernel_33691/1990927845.py\u001b[0m in \u001b[0;36m<module>\u001b[0;34m\u001b[0m\n\u001b[0;32m----> 1\u001b[0;31m \u001b[0mdataset_test\u001b[0m \u001b[0;34m=\u001b[0m \u001b[0mpd\u001b[0m\u001b[0;34m.\u001b[0m\u001b[0mread_csv\u001b[0m\u001b[0;34m(\u001b[0m\u001b[0;34mr\"/Users/akshith/Downloads/Google_Stock_Price_Test.csv.xls\"\u001b[0m\u001b[0;34m)\u001b[0m\u001b[0;34m\u001b[0m\u001b[0;34m\u001b[0m\u001b[0m\n\u001b[0m\u001b[1;32m      2\u001b[0m \u001b[0;34m\u001b[0m\u001b[0m\n\u001b[1;32m      3\u001b[0m \u001b[0mactual_stock_price\u001b[0m \u001b[0;34m=\u001b[0m \u001b[0mdataset_test\u001b[0m\u001b[0;34m.\u001b[0m\u001b[0miloc\u001b[0m\u001b[0;34m[\u001b[0m\u001b[0;34m:\u001b[0m\u001b[0;34m,\u001b[0m\u001b[0;36m1\u001b[0m\u001b[0;34m:\u001b[0m\u001b[0;36m2\u001b[0m\u001b[0;34m]\u001b[0m\u001b[0;34m.\u001b[0m\u001b[0mvalues\u001b[0m\u001b[0;34m\u001b[0m\u001b[0;34m\u001b[0m\u001b[0m\n",
      "\u001b[0;31mNameError\u001b[0m: name 'pd' is not defined"
     ]
    }
   ],
   "source": [
    "dataset_test = pd.read_csv(r\"/Users/akshith/Downloads/Google_Stock_Price_Test.csv.xls\")\n",
    "\n",
    "actual_stock_price = dataset_test.iloc[:,1:2].values"
   ]
  },
  {
   "cell_type": "code",
   "execution_count": null,
   "metadata": {
    "id": "ZGLO9DNMwJLe"
   },
   "outputs": [],
   "source": [
    "dataset_total = pd.concat((dataset['Open'], dataset_test['Open']), axis =0)\n",
    "inputs =dataset_total[len(dataset_total)- len(dataset_test)-60:].values\n",
    "\n",
    "inputs = inputs.reshape(-1,1)\n",
    "inputs = scaler.transform(inputs)\n",
    "\n",
    "X_test =[]\n",
    "for i in range(60,1258):\n",
    "  X_test.append(inputs[i-60:i,0])\n",
    "X_test = np.array(X_test)\n",
    "X_test = np.reshape(X_test,(X_test.shape[0], X_test.shape[1], 1))\n"
   ]
  },
  {
   "cell_type": "code",
   "execution_count": null,
   "metadata": {
    "id": "Kg_d04cZuMhQ"
   },
   "outputs": [],
   "source": [
    "predicted_stock_price = reg.predict(X_test)\n",
    "predicted_stock_price = scaler.inverse_transform(predicted_stock_price)"
   ]
  },
  {
   "cell_type": "code",
   "execution_count": null,
   "metadata": {
    "colab": {
     "base_uri": "https://localhost:8080/",
     "height": 312
    },
    "id": "u7inCBs5uXKi",
    "outputId": "6d5f0f5f-b58e-43f5-c344-8a5a0dbcdbd6"
   },
   "outputs": [],
   "source": [
    "plt.plot(actual_stock_price, color='red', label = 'Actual Google Stock Price')\n",
    "plt.plot(predicted_stock_price, color='blue', label = 'Predicted Google Stock Price')\n",
    "plt.title('Google Stock Price Prediction')\n",
    "plt.xlabel('Time')\n",
    "plt.xlabel('Google Stock Price')\n",
    "plt.legend()"
   ]
  },
  {
   "cell_type": "code",
   "execution_count": null,
   "metadata": {},
   "outputs": [],
   "source": []
  },
  {
   "cell_type": "code",
   "execution_count": null,
   "metadata": {},
   "outputs": [],
   "source": []
  }
 ],
 "metadata": {
  "colab": {
   "name": "Stock_price_prediction.ipynb",
   "provenance": []
  },
  "kernelspec": {
   "display_name": "Python 3 (ipykernel)",
   "language": "python",
   "name": "python3"
  },
  "language_info": {
   "codemirror_mode": {
    "name": "ipython",
    "version": 3
   },
   "file_extension": ".py",
   "mimetype": "text/x-python",
   "name": "python",
   "nbconvert_exporter": "python",
   "pygments_lexer": "ipython3",
   "version": "3.9.7"
  }
 },
 "nbformat": 4,
 "nbformat_minor": 4
}
